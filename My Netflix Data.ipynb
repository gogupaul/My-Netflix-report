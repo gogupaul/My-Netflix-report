{
 "cells": [
  {
   "attachments": {},
   "cell_type": "markdown",
   "metadata": {},
   "source": [
    "Importing the data from the CSV file."
   ]
  },
  {
   "cell_type": "code",
   "execution_count": 479,
   "metadata": {},
   "outputs": [],
   "source": [
    "import pandas as pd\n",
    "df = pd.read_csv('ViewingActivity.csv')\n",
    "import array as arr\n",
    "\n"
   ]
  },
  {
   "attachments": {},
   "cell_type": "markdown",
   "metadata": {},
   "source": [
    "Now will understand the data, to see how many rows and columns are."
   ]
  },
  {
   "cell_type": "code",
   "execution_count": 480,
   "metadata": {},
   "outputs": [
    {
     "data": {
      "text/plain": [
       "(6869, 10)"
      ]
     },
     "execution_count": 480,
     "metadata": {},
     "output_type": "execute_result"
    }
   ],
   "source": [
    "df.shape"
   ]
  },
  {
   "attachments": {},
   "cell_type": "markdown",
   "metadata": {},
   "source": [
    "Will have a closer look at the first rows of the dataset."
   ]
  },
  {
   "cell_type": "code",
   "execution_count": 481,
   "metadata": {},
   "outputs": [
    {
     "data": {
      "text/html": [
       "<div>\n",
       "<style scoped>\n",
       "    .dataframe tbody tr th:only-of-type {\n",
       "        vertical-align: middle;\n",
       "    }\n",
       "\n",
       "    .dataframe tbody tr th {\n",
       "        vertical-align: top;\n",
       "    }\n",
       "\n",
       "    .dataframe thead th {\n",
       "        text-align: right;\n",
       "    }\n",
       "</style>\n",
       "<table border=\"1\" class=\"dataframe\">\n",
       "  <thead>\n",
       "    <tr style=\"text-align: right;\">\n",
       "      <th></th>\n",
       "      <th>Profile Name</th>\n",
       "      <th>Start Time</th>\n",
       "      <th>Duration</th>\n",
       "      <th>Attributes</th>\n",
       "      <th>Title</th>\n",
       "      <th>Supplemental Video Type</th>\n",
       "      <th>Device Type</th>\n",
       "      <th>Bookmark</th>\n",
       "      <th>Latest Bookmark</th>\n",
       "      <th>Country</th>\n",
       "    </tr>\n",
       "  </thead>\n",
       "  <tbody>\n",
       "    <tr>\n",
       "      <th>0</th>\n",
       "      <td>Andreea</td>\n",
       "      <td>2023-06-04 13:31:02</td>\n",
       "      <td>00:19:55</td>\n",
       "      <td>NaN</td>\n",
       "      <td>Manifest: Season 4: Threshold (Episode 17)</td>\n",
       "      <td>NaN</td>\n",
       "      <td>iPhone 12 Pro Max</td>\n",
       "      <td>00:28:41</td>\n",
       "      <td>00:28:41</td>\n",
       "      <td>RO (Romania)</td>\n",
       "    </tr>\n",
       "    <tr>\n",
       "      <th>1</th>\n",
       "      <td>Andreea</td>\n",
       "      <td>2023-06-04 13:21:59</td>\n",
       "      <td>00:08:46</td>\n",
       "      <td>NaN</td>\n",
       "      <td>Manifest: Season 4: Threshold (Episode 17)</td>\n",
       "      <td>NaN</td>\n",
       "      <td>iPhone 12 Pro Max</td>\n",
       "      <td>00:08:46</td>\n",
       "      <td>Not latest view</td>\n",
       "      <td>RO (Romania)</td>\n",
       "    </tr>\n",
       "    <tr>\n",
       "      <th>2</th>\n",
       "      <td>Andreea</td>\n",
       "      <td>2023-06-04 12:54:09</td>\n",
       "      <td>00:26:24</td>\n",
       "      <td>NaN</td>\n",
       "      <td>Manifest: Season 4: Furball (Episode 16)</td>\n",
       "      <td>NaN</td>\n",
       "      <td>iPhone 12 Pro Max</td>\n",
       "      <td>00:45:20</td>\n",
       "      <td>00:45:20</td>\n",
       "      <td>RO (Romania)</td>\n",
       "    </tr>\n",
       "    <tr>\n",
       "      <th>3</th>\n",
       "      <td>Andreea</td>\n",
       "      <td>2023-06-04 11:28:28</td>\n",
       "      <td>00:09:33</td>\n",
       "      <td>NaN</td>\n",
       "      <td>Manifest: Season 4: Furball (Episode 16)</td>\n",
       "      <td>NaN</td>\n",
       "      <td>iPhone 12 Pro Max</td>\n",
       "      <td>00:17:36</td>\n",
       "      <td>Not latest view</td>\n",
       "      <td>RO (Romania)</td>\n",
       "    </tr>\n",
       "    <tr>\n",
       "      <th>4</th>\n",
       "      <td>Andreea</td>\n",
       "      <td>2023-06-04 10:47:14</td>\n",
       "      <td>00:14:40</td>\n",
       "      <td>NaN</td>\n",
       "      <td>Manifest: Season 4: Throttle (Episode 15)</td>\n",
       "      <td>NaN</td>\n",
       "      <td>iPhone 12 Pro Max</td>\n",
       "      <td>00:42:16</td>\n",
       "      <td>00:42:16</td>\n",
       "      <td>RO (Romania)</td>\n",
       "    </tr>\n",
       "  </tbody>\n",
       "</table>\n",
       "</div>"
      ],
      "text/plain": [
       "  Profile Name           Start Time  Duration Attributes  \\\n",
       "0      Andreea  2023-06-04 13:31:02  00:19:55        NaN   \n",
       "1      Andreea  2023-06-04 13:21:59  00:08:46        NaN   \n",
       "2      Andreea  2023-06-04 12:54:09  00:26:24        NaN   \n",
       "3      Andreea  2023-06-04 11:28:28  00:09:33        NaN   \n",
       "4      Andreea  2023-06-04 10:47:14  00:14:40        NaN   \n",
       "\n",
       "                                        Title Supplemental Video Type  \\\n",
       "0  Manifest: Season 4: Threshold (Episode 17)                     NaN   \n",
       "1  Manifest: Season 4: Threshold (Episode 17)                     NaN   \n",
       "2    Manifest: Season 4: Furball (Episode 16)                     NaN   \n",
       "3    Manifest: Season 4: Furball (Episode 16)                     NaN   \n",
       "4   Manifest: Season 4: Throttle (Episode 15)                     NaN   \n",
       "\n",
       "         Device Type  Bookmark  Latest Bookmark       Country  \n",
       "0  iPhone 12 Pro Max  00:28:41         00:28:41  RO (Romania)  \n",
       "1  iPhone 12 Pro Max  00:08:46  Not latest view  RO (Romania)  \n",
       "2  iPhone 12 Pro Max  00:45:20         00:45:20  RO (Romania)  \n",
       "3  iPhone 12 Pro Max  00:17:36  Not latest view  RO (Romania)  \n",
       "4  iPhone 12 Pro Max  00:42:16         00:42:16  RO (Romania)  "
      ]
     },
     "execution_count": 481,
     "metadata": {},
     "output_type": "execute_result"
    }
   ],
   "source": [
    "df.head()"
   ]
  },
  {
   "attachments": {},
   "cell_type": "markdown",
   "metadata": {},
   "source": [
    "Additionally, let's get some random sample rows for a further first understanding of the data."
   ]
  },
  {
   "cell_type": "code",
   "execution_count": 482,
   "metadata": {},
   "outputs": [
    {
     "data": {
      "text/html": [
       "<div>\n",
       "<style scoped>\n",
       "    .dataframe tbody tr th:only-of-type {\n",
       "        vertical-align: middle;\n",
       "    }\n",
       "\n",
       "    .dataframe tbody tr th {\n",
       "        vertical-align: top;\n",
       "    }\n",
       "\n",
       "    .dataframe thead th {\n",
       "        text-align: right;\n",
       "    }\n",
       "</style>\n",
       "<table border=\"1\" class=\"dataframe\">\n",
       "  <thead>\n",
       "    <tr style=\"text-align: right;\">\n",
       "      <th></th>\n",
       "      <th>Profile Name</th>\n",
       "      <th>Start Time</th>\n",
       "      <th>Duration</th>\n",
       "      <th>Attributes</th>\n",
       "      <th>Title</th>\n",
       "      <th>Supplemental Video Type</th>\n",
       "      <th>Device Type</th>\n",
       "      <th>Bookmark</th>\n",
       "      <th>Latest Bookmark</th>\n",
       "      <th>Country</th>\n",
       "    </tr>\n",
       "  </thead>\n",
       "  <tbody>\n",
       "    <tr>\n",
       "      <th>4690</th>\n",
       "      <td>Paul</td>\n",
       "      <td>2023-03-07 19:58:59</td>\n",
       "      <td>00:35:40</td>\n",
       "      <td>NaN</td>\n",
       "      <td>The Office (U.S.): Season 7: Goodbye, Michael ...</td>\n",
       "      <td>NaN</td>\n",
       "      <td>Samsung CE 2020 Kant-S2 DTV Smart TV</td>\n",
       "      <td>00:35:40</td>\n",
       "      <td>00:35:40</td>\n",
       "      <td>RO (Romania)</td>\n",
       "    </tr>\n",
       "    <tr>\n",
       "      <th>4157</th>\n",
       "      <td>Mla</td>\n",
       "      <td>2022-12-20 17:12:55</td>\n",
       "      <td>00:04:01</td>\n",
       "      <td>NaN</td>\n",
       "      <td>The Worst Witch: Season 1: Pond Life (Episode 4)</td>\n",
       "      <td>NaN</td>\n",
       "      <td>Android DefaultWidevineL3Phone Android Phone</td>\n",
       "      <td>00:16:53</td>\n",
       "      <td>Not latest view</td>\n",
       "      <td>RO (Romania)</td>\n",
       "    </tr>\n",
       "    <tr>\n",
       "      <th>4369</th>\n",
       "      <td>Mla</td>\n",
       "      <td>2022-08-14 19:08:36</td>\n",
       "      <td>01:32:30</td>\n",
       "      <td>Autoplayed: user action: User_Interaction;</td>\n",
       "      <td>Puss in Boots</td>\n",
       "      <td>NaN</td>\n",
       "      <td>Sony Sony CE SONY SimpleTV 2015 Sal Smart TV</td>\n",
       "      <td>01:32:30</td>\n",
       "      <td>Not latest view</td>\n",
       "      <td>RO (Romania)</td>\n",
       "    </tr>\n",
       "    <tr>\n",
       "      <th>2049</th>\n",
       "      <td>Andreea</td>\n",
       "      <td>2021-11-20 12:48:43</td>\n",
       "      <td>00:19:23</td>\n",
       "      <td>NaN</td>\n",
       "      <td>Dynasty: Season 2: A Temporary Infestation (Ep...</td>\n",
       "      <td>NaN</td>\n",
       "      <td>iPhone 12 Pro Max</td>\n",
       "      <td>00:42:12</td>\n",
       "      <td>00:42:12</td>\n",
       "      <td>RO (Romania)</td>\n",
       "    </tr>\n",
       "    <tr>\n",
       "      <th>6551</th>\n",
       "      <td>Paul</td>\n",
       "      <td>2020-05-18 05:15:01</td>\n",
       "      <td>00:02:31</td>\n",
       "      <td>NaN</td>\n",
       "      <td>Community: Season 6: Ladders (Episode 1)</td>\n",
       "      <td>NaN</td>\n",
       "      <td>Chrome PC (Cadmium)</td>\n",
       "      <td>00:14:54</td>\n",
       "      <td>Not latest view</td>\n",
       "      <td>RO (Romania)</td>\n",
       "    </tr>\n",
       "    <tr>\n",
       "      <th>3598</th>\n",
       "      <td>Mama</td>\n",
       "      <td>2020-04-19 22:16:41</td>\n",
       "      <td>00:00:02</td>\n",
       "      <td>NaN</td>\n",
       "      <td>Money Heist: Part 1: Episode 5</td>\n",
       "      <td>NaN</td>\n",
       "      <td>Apple iPhone 7 (GSM)</td>\n",
       "      <td>00:00:03</td>\n",
       "      <td>Not latest view</td>\n",
       "      <td>RO (Romania)</td>\n",
       "    </tr>\n",
       "    <tr>\n",
       "      <th>956</th>\n",
       "      <td>Andreea</td>\n",
       "      <td>2022-10-24 13:42:04</td>\n",
       "      <td>00:52:04</td>\n",
       "      <td>NaN</td>\n",
       "      <td>Love Is Blind: Season 3: Meet Your Exes (Episo...</td>\n",
       "      <td>NaN</td>\n",
       "      <td>iPad mini 3G CDMA</td>\n",
       "      <td>00:54:44</td>\n",
       "      <td>00:54:44</td>\n",
       "      <td>RO (Romania)</td>\n",
       "    </tr>\n",
       "    <tr>\n",
       "      <th>4547</th>\n",
       "      <td>Paul</td>\n",
       "      <td>2023-05-08 09:03:23</td>\n",
       "      <td>00:21:03</td>\n",
       "      <td>Autoplayed: user action: User_Interaction;</td>\n",
       "      <td>Community: Season 2: Intermediate Documentary ...</td>\n",
       "      <td>NaN</td>\n",
       "      <td>Samsung CE 2020 Kant-S2 DTV Smart TV</td>\n",
       "      <td>00:21:05</td>\n",
       "      <td>00:21:05</td>\n",
       "      <td>RO (Romania)</td>\n",
       "    </tr>\n",
       "    <tr>\n",
       "      <th>5807</th>\n",
       "      <td>Paul</td>\n",
       "      <td>2021-11-07 12:42:59</td>\n",
       "      <td>00:00:01</td>\n",
       "      <td>NaN</td>\n",
       "      <td>The Office (U.S.): Season 3: Grief Counseling ...</td>\n",
       "      <td>NaN</td>\n",
       "      <td>Chrome PC (Cadmium)</td>\n",
       "      <td>00:20:07</td>\n",
       "      <td>Not latest view</td>\n",
       "      <td>RO (Romania)</td>\n",
       "    </tr>\n",
       "    <tr>\n",
       "      <th>2012</th>\n",
       "      <td>Andreea</td>\n",
       "      <td>2021-11-27 19:06:01</td>\n",
       "      <td>00:17:28</td>\n",
       "      <td>NaN</td>\n",
       "      <td>Dynasty: Season 3: A Used Up Memory (Episode 6)</td>\n",
       "      <td>NaN</td>\n",
       "      <td>iPad mini 3G CDMA</td>\n",
       "      <td>00:18:14</td>\n",
       "      <td>Not latest view</td>\n",
       "      <td>RO (Romania)</td>\n",
       "    </tr>\n",
       "  </tbody>\n",
       "</table>\n",
       "</div>"
      ],
      "text/plain": [
       "     Profile Name           Start Time  Duration  \\\n",
       "4690         Paul  2023-03-07 19:58:59  00:35:40   \n",
       "4157          Mla  2022-12-20 17:12:55  00:04:01   \n",
       "4369          Mla  2022-08-14 19:08:36  01:32:30   \n",
       "2049      Andreea  2021-11-20 12:48:43  00:19:23   \n",
       "6551         Paul  2020-05-18 05:15:01  00:02:31   \n",
       "3598         Mama  2020-04-19 22:16:41  00:00:02   \n",
       "956       Andreea  2022-10-24 13:42:04  00:52:04   \n",
       "4547         Paul  2023-05-08 09:03:23  00:21:03   \n",
       "5807         Paul  2021-11-07 12:42:59  00:00:01   \n",
       "2012      Andreea  2021-11-27 19:06:01  00:17:28   \n",
       "\n",
       "                                       Attributes  \\\n",
       "4690                                          NaN   \n",
       "4157                                          NaN   \n",
       "4369  Autoplayed: user action: User_Interaction;    \n",
       "2049                                          NaN   \n",
       "6551                                          NaN   \n",
       "3598                                          NaN   \n",
       "956                                           NaN   \n",
       "4547  Autoplayed: user action: User_Interaction;    \n",
       "5807                                          NaN   \n",
       "2012                                          NaN   \n",
       "\n",
       "                                                  Title  \\\n",
       "4690  The Office (U.S.): Season 7: Goodbye, Michael ...   \n",
       "4157   The Worst Witch: Season 1: Pond Life (Episode 4)   \n",
       "4369                                      Puss in Boots   \n",
       "2049  Dynasty: Season 2: A Temporary Infestation (Ep...   \n",
       "6551           Community: Season 6: Ladders (Episode 1)   \n",
       "3598                     Money Heist: Part 1: Episode 5   \n",
       "956   Love Is Blind: Season 3: Meet Your Exes (Episo...   \n",
       "4547  Community: Season 2: Intermediate Documentary ...   \n",
       "5807  The Office (U.S.): Season 3: Grief Counseling ...   \n",
       "2012    Dynasty: Season 3: A Used Up Memory (Episode 6)   \n",
       "\n",
       "     Supplemental Video Type                                   Device Type  \\\n",
       "4690                     NaN          Samsung CE 2020 Kant-S2 DTV Smart TV   \n",
       "4157                     NaN  Android DefaultWidevineL3Phone Android Phone   \n",
       "4369                     NaN  Sony Sony CE SONY SimpleTV 2015 Sal Smart TV   \n",
       "2049                     NaN                             iPhone 12 Pro Max   \n",
       "6551                     NaN                           Chrome PC (Cadmium)   \n",
       "3598                     NaN                          Apple iPhone 7 (GSM)   \n",
       "956                      NaN                             iPad mini 3G CDMA   \n",
       "4547                     NaN          Samsung CE 2020 Kant-S2 DTV Smart TV   \n",
       "5807                     NaN                           Chrome PC (Cadmium)   \n",
       "2012                     NaN                             iPad mini 3G CDMA   \n",
       "\n",
       "      Bookmark  Latest Bookmark       Country  \n",
       "4690  00:35:40         00:35:40  RO (Romania)  \n",
       "4157  00:16:53  Not latest view  RO (Romania)  \n",
       "4369  01:32:30  Not latest view  RO (Romania)  \n",
       "2049  00:42:12         00:42:12  RO (Romania)  \n",
       "6551  00:14:54  Not latest view  RO (Romania)  \n",
       "3598  00:00:03  Not latest view  RO (Romania)  \n",
       "956   00:54:44         00:54:44  RO (Romania)  \n",
       "4547  00:21:05         00:21:05  RO (Romania)  \n",
       "5807  00:20:07  Not latest view  RO (Romania)  \n",
       "2012  00:18:14  Not latest view  RO (Romania)  "
      ]
     },
     "execution_count": 482,
     "metadata": {},
     "output_type": "execute_result"
    }
   ],
   "source": [
    "df.sample(n=10)"
   ]
  },
  {
   "attachments": {},
   "cell_type": "markdown",
   "metadata": {},
   "source": [
    "Now will take a closer look at the profiles"
   ]
  },
  {
   "cell_type": "code",
   "execution_count": 483,
   "metadata": {},
   "outputs": [
    {
     "name": "stdout",
     "output_type": "stream",
     "text": [
      "['Andreea' 'Mama' 'Mia' 'Mla' 'Paul']\n",
      "           0\n",
      "0  My sister\n",
      "1         Me\n",
      "2       Kids\n",
      "3        Mom\n"
     ]
    }
   ],
   "source": [
    "unique_values = df['Profile Name'].unique()\n",
    "print(unique_values)\n",
    "\n",
    "specific_values = pd.DataFrame(['My sister', 'Me', 'Kids', 'Mom'], dtype=object)\n",
    "print(specific_values)"
   ]
  },
  {
   "attachments": {},
   "cell_type": "markdown",
   "metadata": {},
   "source": [
    "Will proceed the same with 'Device Type' column"
   ]
  },
  {
   "cell_type": "code",
   "execution_count": 484,
   "metadata": {},
   "outputs": [
    {
     "name": "stdout",
     "output_type": "stream",
     "text": [
      "['iPhone 12 Pro Max' 'Sony Sony CE SONY SimpleTV 2015 Sal Smart TV'\n",
      " 'Chrome PC (Cadmium)' 'Vestel ODM 4.3 Nova 2K TV Smart TV'\n",
      " 'FireTV 4K Stick 2018' 'Samsung CE 2020 Kant-S2 UHD TV Smart TV'\n",
      " 'iPad mini 3G CDMA' 'Apple iPhone 7 Plus (GSM)' 'Apple iPhone 6 Plus'\n",
      " 'Samsung 2015 Hawk-M Smart TV' 'Apple iPhone X (GSM)'\n",
      " 'Apple iPhone 7 (GSM)' 'Android DefaultWidevineL3Phone Android Phone'\n",
      " 'Samsung CE 2020 Kant-S2 DTV Smart TV' 'Apple iPhone 8 Plus (GSM)']\n",
      "                                              0\n",
      "0  Sony Sony CE SONY SimpleTV 2015 Sal Smart TV\n",
      "1          Samsung CE 2020 Kant-S2 DTV Smart TV\n",
      "2                             iPhone 12 Pro Max\n",
      "3                             iPad mini 3G CDMA\n"
     ]
    }
   ],
   "source": [
    "unique_values1 = df['Device Type'].unique()\n",
    "print(unique_values1)\n",
    "\n",
    "specific_values1 = pd.DataFrame(['Sony Sony CE SONY SimpleTV 2015 Sal Smart TV', 'Samsung CE 2020 Kant-S2 DTV Smart TV', 'iPhone 12 Pro Max', 'iPad mini 3G CDMA'], dtype=object)\n",
    "print(specific_values1)"
   ]
  },
  {
   "attachments": {},
   "cell_type": "markdown",
   "metadata": {},
   "source": [
    "We need tpo understand the underlying data type"
   ]
  },
  {
   "cell_type": "code",
   "execution_count": 485,
   "metadata": {},
   "outputs": [
    {
     "data": {
      "text/plain": [
       "Profile Name               object\n",
       "Start Time                 object\n",
       "Duration                   object\n",
       "Attributes                 object\n",
       "Title                      object\n",
       "Supplemental Video Type    object\n",
       "Device Type                object\n",
       "Bookmark                   object\n",
       "Latest Bookmark            object\n",
       "Country                    object\n",
       "dtype: object"
      ]
     },
     "execution_count": 485,
     "metadata": {},
     "output_type": "execute_result"
    }
   ],
   "source": [
    "df.dtypes"
   ]
  },
  {
   "attachments": {},
   "cell_type": "markdown",
   "metadata": {},
   "source": [
    "Will have to transform the data from 'object' to 'datetime' and 'timedelta'."
   ]
  },
  {
   "cell_type": "code",
   "execution_count": 486,
   "metadata": {},
   "outputs": [
    {
     "data": {
      "text/plain": [
       "Profile Name                            object\n",
       "Start Time                 datetime64[ns, UTC]\n",
       "Duration                       timedelta64[ns]\n",
       "Attributes                              object\n",
       "Title                                   object\n",
       "Supplemental Video Type                 object\n",
       "Device Type                             object\n",
       "Bookmark                                object\n",
       "Latest Bookmark                         object\n",
       "Country                                 object\n",
       "dtype: object"
      ]
     },
     "execution_count": 486,
     "metadata": {},
     "output_type": "execute_result"
    }
   ],
   "source": [
    "df['Start Time'] = pd.to_datetime(df['Start Time'],utc=True)\n",
    "df['Duration'] = pd.to_timedelta(df['Duration'])\n",
    "df.dtypes"
   ]
  },
  {
   "attachments": {},
   "cell_type": "markdown",
   "metadata": {},
   "source": [
    "Now the colomn 'Start Time' and 'Duration' have an accurate format."
   ]
  },
  {
   "cell_type": "code",
   "execution_count": 487,
   "metadata": {},
   "outputs": [
    {
     "data": {
      "text/html": [
       "<div>\n",
       "<style scoped>\n",
       "    .dataframe tbody tr th:only-of-type {\n",
       "        vertical-align: middle;\n",
       "    }\n",
       "\n",
       "    .dataframe tbody tr th {\n",
       "        vertical-align: top;\n",
       "    }\n",
       "\n",
       "    .dataframe thead th {\n",
       "        text-align: right;\n",
       "    }\n",
       "</style>\n",
       "<table border=\"1\" class=\"dataframe\">\n",
       "  <thead>\n",
       "    <tr style=\"text-align: right;\">\n",
       "      <th></th>\n",
       "      <th>Profile Name</th>\n",
       "      <th>Start Time</th>\n",
       "      <th>Duration</th>\n",
       "      <th>Attributes</th>\n",
       "      <th>Title</th>\n",
       "      <th>Supplemental Video Type</th>\n",
       "      <th>Device Type</th>\n",
       "      <th>Bookmark</th>\n",
       "      <th>Latest Bookmark</th>\n",
       "      <th>Country</th>\n",
       "    </tr>\n",
       "  </thead>\n",
       "  <tbody>\n",
       "    <tr>\n",
       "      <th>1662</th>\n",
       "      <td>Andreea</td>\n",
       "      <td>2022-02-15 14:43:45+00:00</td>\n",
       "      <td>0 days 00:00:25</td>\n",
       "      <td>NaN</td>\n",
       "      <td>Inventing Anna: Limited Series: A Wolf in Chic...</td>\n",
       "      <td>NaN</td>\n",
       "      <td>iPhone 12 Pro Max</td>\n",
       "      <td>00:30:14</td>\n",
       "      <td>Not latest view</td>\n",
       "      <td>RO (Romania)</td>\n",
       "    </tr>\n",
       "    <tr>\n",
       "      <th>5792</th>\n",
       "      <td>Paul</td>\n",
       "      <td>2021-11-11 12:01:17+00:00</td>\n",
       "      <td>0 days 00:11:33</td>\n",
       "      <td>NaN</td>\n",
       "      <td>Q-Force: Season 1: The Coeur de la Mer (Episod...</td>\n",
       "      <td>NaN</td>\n",
       "      <td>iPhone 12 Pro Max</td>\n",
       "      <td>00:24:45</td>\n",
       "      <td>00:24:45</td>\n",
       "      <td>RO (Romania)</td>\n",
       "    </tr>\n",
       "    <tr>\n",
       "      <th>5003</th>\n",
       "      <td>Paul</td>\n",
       "      <td>2022-08-02 10:34:49+00:00</td>\n",
       "      <td>0 days 00:52:40</td>\n",
       "      <td>Autoplayed: user action: User_Interaction;</td>\n",
       "      <td>Stranger Things: Season 1: Chapter Eight: The ...</td>\n",
       "      <td>NaN</td>\n",
       "      <td>Samsung CE 2020 Kant-S2 DTV Smart TV</td>\n",
       "      <td>00:52:46</td>\n",
       "      <td>00:52:46</td>\n",
       "      <td>RO (Romania)</td>\n",
       "    </tr>\n",
       "    <tr>\n",
       "      <th>3806</th>\n",
       "      <td>Mla</td>\n",
       "      <td>2023-02-14 14:02:35+00:00</td>\n",
       "      <td>0 days 00:00:02</td>\n",
       "      <td>NaN</td>\n",
       "      <td>Gabby's Dollhouse: Season 2: Let's Make a Movi...</td>\n",
       "      <td>NaN</td>\n",
       "      <td>iPhone 12 Pro Max</td>\n",
       "      <td>00:00:02</td>\n",
       "      <td>Not latest view</td>\n",
       "      <td>RO (Romania)</td>\n",
       "    </tr>\n",
       "    <tr>\n",
       "      <th>3276</th>\n",
       "      <td>Mama</td>\n",
       "      <td>2021-01-31 11:20:51+00:00</td>\n",
       "      <td>0 days 00:28:39</td>\n",
       "      <td>NaN</td>\n",
       "      <td>Dark Desire: Season 1: Are You Missing The Goo...</td>\n",
       "      <td>NaN</td>\n",
       "      <td>Apple iPhone X (GSM)</td>\n",
       "      <td>00:28:55</td>\n",
       "      <td>00:28:55</td>\n",
       "      <td>RO (Romania)</td>\n",
       "    </tr>\n",
       "    <tr>\n",
       "      <th>3017</th>\n",
       "      <td>Andreea</td>\n",
       "      <td>2020-04-11 08:43:49+00:00</td>\n",
       "      <td>0 days 00:42:10</td>\n",
       "      <td>Autoplayed: user action: None;</td>\n",
       "      <td>Money Heist: Part 2: Episode 5</td>\n",
       "      <td>NaN</td>\n",
       "      <td>Sony Sony CE SONY SimpleTV 2015 Sal Smart TV</td>\n",
       "      <td>00:42:16</td>\n",
       "      <td>Not latest view</td>\n",
       "      <td>RO (Romania)</td>\n",
       "    </tr>\n",
       "    <tr>\n",
       "      <th>1963</th>\n",
       "      <td>Andreea</td>\n",
       "      <td>2021-12-07 08:44:12+00:00</td>\n",
       "      <td>0 days 00:44:43</td>\n",
       "      <td>NaN</td>\n",
       "      <td>Love Never Lies: Season 1: Face to Face (Episo...</td>\n",
       "      <td>NaN</td>\n",
       "      <td>iPad mini 3G CDMA</td>\n",
       "      <td>00:45:51</td>\n",
       "      <td>00:45:51</td>\n",
       "      <td>RO (Romania)</td>\n",
       "    </tr>\n",
       "    <tr>\n",
       "      <th>6515</th>\n",
       "      <td>Paul</td>\n",
       "      <td>2020-05-23 13:27:53+00:00</td>\n",
       "      <td>0 days 00:06:28</td>\n",
       "      <td>NaN</td>\n",
       "      <td>Community: Season 1: Communication Studies (Ep...</td>\n",
       "      <td>NaN</td>\n",
       "      <td>Chrome PC (Cadmium)</td>\n",
       "      <td>00:21:08</td>\n",
       "      <td>Not latest view</td>\n",
       "      <td>RO (Romania)</td>\n",
       "    </tr>\n",
       "    <tr>\n",
       "      <th>6522</th>\n",
       "      <td>Paul</td>\n",
       "      <td>2020-05-22 20:20:26+00:00</td>\n",
       "      <td>0 days 00:21:32</td>\n",
       "      <td>Autoplayed: user action: None;</td>\n",
       "      <td>Community: Season 1: The Politics of Human Sex...</td>\n",
       "      <td>NaN</td>\n",
       "      <td>Chrome PC (Cadmium)</td>\n",
       "      <td>00:21:23</td>\n",
       "      <td>Not latest view</td>\n",
       "      <td>RO (Romania)</td>\n",
       "    </tr>\n",
       "    <tr>\n",
       "      <th>2236</th>\n",
       "      <td>Andreea</td>\n",
       "      <td>2021-09-25 20:49:43+00:00</td>\n",
       "      <td>0 days 00:41:09</td>\n",
       "      <td>Autoplayed: user action: User_Interaction;</td>\n",
       "      <td>The Bold Type: Season 3: The New Normal (Episo...</td>\n",
       "      <td>NaN</td>\n",
       "      <td>Sony Sony CE SONY SimpleTV 2015 Sal Smart TV</td>\n",
       "      <td>00:41:45</td>\n",
       "      <td>00:41:45</td>\n",
       "      <td>RO (Romania)</td>\n",
       "    </tr>\n",
       "  </tbody>\n",
       "</table>\n",
       "</div>"
      ],
      "text/plain": [
       "     Profile Name                Start Time        Duration  \\\n",
       "1662      Andreea 2022-02-15 14:43:45+00:00 0 days 00:00:25   \n",
       "5792         Paul 2021-11-11 12:01:17+00:00 0 days 00:11:33   \n",
       "5003         Paul 2022-08-02 10:34:49+00:00 0 days 00:52:40   \n",
       "3806          Mla 2023-02-14 14:02:35+00:00 0 days 00:00:02   \n",
       "3276         Mama 2021-01-31 11:20:51+00:00 0 days 00:28:39   \n",
       "3017      Andreea 2020-04-11 08:43:49+00:00 0 days 00:42:10   \n",
       "1963      Andreea 2021-12-07 08:44:12+00:00 0 days 00:44:43   \n",
       "6515         Paul 2020-05-23 13:27:53+00:00 0 days 00:06:28   \n",
       "6522         Paul 2020-05-22 20:20:26+00:00 0 days 00:21:32   \n",
       "2236      Andreea 2021-09-25 20:49:43+00:00 0 days 00:41:09   \n",
       "\n",
       "                                       Attributes  \\\n",
       "1662                                          NaN   \n",
       "5792                                          NaN   \n",
       "5003  Autoplayed: user action: User_Interaction;    \n",
       "3806                                          NaN   \n",
       "3276                                          NaN   \n",
       "3017              Autoplayed: user action: None;    \n",
       "1963                                          NaN   \n",
       "6515                                          NaN   \n",
       "6522              Autoplayed: user action: None;    \n",
       "2236  Autoplayed: user action: User_Interaction;    \n",
       "\n",
       "                                                  Title  \\\n",
       "1662  Inventing Anna: Limited Series: A Wolf in Chic...   \n",
       "5792  Q-Force: Season 1: The Coeur de la Mer (Episod...   \n",
       "5003  Stranger Things: Season 1: Chapter Eight: The ...   \n",
       "3806  Gabby's Dollhouse: Season 2: Let's Make a Movi...   \n",
       "3276  Dark Desire: Season 1: Are You Missing The Goo...   \n",
       "3017                     Money Heist: Part 2: Episode 5   \n",
       "1963  Love Never Lies: Season 1: Face to Face (Episo...   \n",
       "6515  Community: Season 1: Communication Studies (Ep...   \n",
       "6522  Community: Season 1: The Politics of Human Sex...   \n",
       "2236  The Bold Type: Season 3: The New Normal (Episo...   \n",
       "\n",
       "     Supplemental Video Type                                   Device Type  \\\n",
       "1662                     NaN                             iPhone 12 Pro Max   \n",
       "5792                     NaN                             iPhone 12 Pro Max   \n",
       "5003                     NaN          Samsung CE 2020 Kant-S2 DTV Smart TV   \n",
       "3806                     NaN                             iPhone 12 Pro Max   \n",
       "3276                     NaN                          Apple iPhone X (GSM)   \n",
       "3017                     NaN  Sony Sony CE SONY SimpleTV 2015 Sal Smart TV   \n",
       "1963                     NaN                             iPad mini 3G CDMA   \n",
       "6515                     NaN                           Chrome PC (Cadmium)   \n",
       "6522                     NaN                           Chrome PC (Cadmium)   \n",
       "2236                     NaN  Sony Sony CE SONY SimpleTV 2015 Sal Smart TV   \n",
       "\n",
       "      Bookmark  Latest Bookmark       Country  \n",
       "1662  00:30:14  Not latest view  RO (Romania)  \n",
       "5792  00:24:45         00:24:45  RO (Romania)  \n",
       "5003  00:52:46         00:52:46  RO (Romania)  \n",
       "3806  00:00:02  Not latest view  RO (Romania)  \n",
       "3276  00:28:55         00:28:55  RO (Romania)  \n",
       "3017  00:42:16  Not latest view  RO (Romania)  \n",
       "1963  00:45:51         00:45:51  RO (Romania)  \n",
       "6515  00:21:08  Not latest view  RO (Romania)  \n",
       "6522  00:21:23  Not latest view  RO (Romania)  \n",
       "2236  00:41:45         00:41:45  RO (Romania)  "
      ]
     },
     "execution_count": 487,
     "metadata": {},
     "output_type": "execute_result"
    }
   ],
   "source": [
    "df.sample(n=10)"
   ]
  },
  {
   "attachments": {},
   "cell_type": "markdown",
   "metadata": {},
   "source": [
    "Now is time to visualize the data but firstly will count the interactions for each profile."
   ]
  },
  {
   "cell_type": "code",
   "execution_count": 488,
   "metadata": {},
   "outputs": [
    {
     "data": {
      "text/plain": [
       "Profile Name\n",
       "Andreea    3062\n",
       "Paul       2418\n",
       "Mla         837\n",
       "Mama        546\n",
       "Mia           6\n",
       "Name: count, dtype: int64"
      ]
     },
     "execution_count": 488,
     "metadata": {},
     "output_type": "execute_result"
    }
   ],
   "source": [
    "df['Profile Name'].value_counts()"
   ]
  },
  {
   "attachments": {},
   "cell_type": "markdown",
   "metadata": {},
   "source": [
    "Will use matplob to visualize the data."
   ]
  },
  {
   "cell_type": "code",
   "execution_count": 489,
   "metadata": {},
   "outputs": [
    {
     "data": {
      "image/png": "[encoded data removed]",
      "text/plain": [
       "<Figure size 640x480 with 1 Axes>"
      ]
     },
     "metadata": {},
     "output_type": "display_data"
    }
   ],
   "source": [
    "%matplotlib inline\n",
    "import matplotlib\n",
    "import matplotlib.pyplot as plt\n",
    "df['Profile Name'].value_counts().plot(kind='bar')\n",
    "plt.show()"
   ]
  },
  {
   "attachments": {},
   "cell_type": "markdown",
   "metadata": {},
   "source": [
    "Will see now which profile watched the most."
   ]
  },
  {
   "cell_type": "code",
   "execution_count": 490,
   "metadata": {},
   "outputs": [
    {
     "data": {
      "text/plain": [
       "Timedelta('87 days 17:44:33')"
      ]
     },
     "execution_count": 490,
     "metadata": {},
     "output_type": "execute_result"
    }
   ],
   "source": [
    "df['Duration'].sum()"
   ]
  },
  {
   "cell_type": "code",
   "execution_count": 491,
   "metadata": {},
   "outputs": [
    {
     "data": {
      "text/html": [
       "<div>\n",
       "<style scoped>\n",
       "    .dataframe tbody tr th:only-of-type {\n",
       "        vertical-align: middle;\n",
       "    }\n",
       "\n",
       "    .dataframe tbody tr th {\n",
       "        vertical-align: top;\n",
       "    }\n",
       "\n",
       "    .dataframe thead th {\n",
       "        text-align: right;\n",
       "    }\n",
       "</style>\n",
       "<table border=\"1\" class=\"dataframe\">\n",
       "  <thead>\n",
       "    <tr style=\"text-align: right;\">\n",
       "      <th></th>\n",
       "      <th>Profile Name</th>\n",
       "      <th>Start Time</th>\n",
       "      <th>Duration</th>\n",
       "      <th>Attributes</th>\n",
       "      <th>Title</th>\n",
       "      <th>Supplemental Video Type</th>\n",
       "      <th>Device Type</th>\n",
       "      <th>Bookmark</th>\n",
       "      <th>Latest Bookmark</th>\n",
       "      <th>Country</th>\n",
       "    </tr>\n",
       "  </thead>\n",
       "  <tbody>\n",
       "    <tr>\n",
       "      <th>6868</th>\n",
       "      <td>Paul</td>\n",
       "      <td>2020-01-16 17:27:05+00:00</td>\n",
       "      <td>0 days 00:47:24</td>\n",
       "      <td>NaN</td>\n",
       "      <td>You: Season 2: The Good, the Bad, &amp; the Hendy ...</td>\n",
       "      <td>NaN</td>\n",
       "      <td>Chrome PC (Cadmium)</td>\n",
       "      <td>00:47:54</td>\n",
       "      <td>00:47:54</td>\n",
       "      <td>RO (Romania)</td>\n",
       "    </tr>\n",
       "    <tr>\n",
       "      <th>6867</th>\n",
       "      <td>Paul</td>\n",
       "      <td>2020-01-16 18:14:34+00:00</td>\n",
       "      <td>0 days 00:48:21</td>\n",
       "      <td>Autoplayed: user action: None;</td>\n",
       "      <td>You: Season 2: Have a Good Wellkend, Joe! (Epi...</td>\n",
       "      <td>NaN</td>\n",
       "      <td>Chrome PC (Cadmium)</td>\n",
       "      <td>00:48:38</td>\n",
       "      <td>00:48:38</td>\n",
       "      <td>RO (Romania)</td>\n",
       "    </tr>\n",
       "    <tr>\n",
       "      <th>6866</th>\n",
       "      <td>Paul</td>\n",
       "      <td>2020-01-16 19:11:34+00:00</td>\n",
       "      <td>0 days 00:44:05</td>\n",
       "      <td>Autoplayed: user action: None;</td>\n",
       "      <td>You: Season 2: Farewell, My Bunny (Episode 6)</td>\n",
       "      <td>NaN</td>\n",
       "      <td>Chrome PC (Cadmium)</td>\n",
       "      <td>00:44:22</td>\n",
       "      <td>00:44:22</td>\n",
       "      <td>RO (Romania)</td>\n",
       "    </tr>\n",
       "    <tr>\n",
       "      <th>6865</th>\n",
       "      <td>Paul</td>\n",
       "      <td>2020-01-16 19:58:29+00:00</td>\n",
       "      <td>0 days 00:03:47</td>\n",
       "      <td>Autoplayed: user action: None;</td>\n",
       "      <td>You: Season 2: Ex-istential Crisis (Episode 7)</td>\n",
       "      <td>NaN</td>\n",
       "      <td>Chrome PC (Cadmium)</td>\n",
       "      <td>00:04:04</td>\n",
       "      <td>Not latest view</td>\n",
       "      <td>RO (Romania)</td>\n",
       "    </tr>\n",
       "    <tr>\n",
       "      <th>6864</th>\n",
       "      <td>Paul</td>\n",
       "      <td>2020-01-16 21:05:44+00:00</td>\n",
       "      <td>0 days 00:44:43</td>\n",
       "      <td>NaN</td>\n",
       "      <td>You: Season 2: Ex-istential Crisis (Episode 7)</td>\n",
       "      <td>NaN</td>\n",
       "      <td>Chrome PC (Cadmium)</td>\n",
       "      <td>00:49:27</td>\n",
       "      <td>00:49:27</td>\n",
       "      <td>RO (Romania)</td>\n",
       "    </tr>\n",
       "    <tr>\n",
       "      <th>...</th>\n",
       "      <td>...</td>\n",
       "      <td>...</td>\n",
       "      <td>...</td>\n",
       "      <td>...</td>\n",
       "      <td>...</td>\n",
       "      <td>...</td>\n",
       "      <td>...</td>\n",
       "      <td>...</td>\n",
       "      <td>...</td>\n",
       "      <td>...</td>\n",
       "    </tr>\n",
       "    <tr>\n",
       "      <th>4</th>\n",
       "      <td>Andreea</td>\n",
       "      <td>2023-06-04 10:47:14+00:00</td>\n",
       "      <td>0 days 00:14:40</td>\n",
       "      <td>NaN</td>\n",
       "      <td>Manifest: Season 4: Throttle (Episode 15)</td>\n",
       "      <td>NaN</td>\n",
       "      <td>iPhone 12 Pro Max</td>\n",
       "      <td>00:42:16</td>\n",
       "      <td>00:42:16</td>\n",
       "      <td>RO (Romania)</td>\n",
       "    </tr>\n",
       "    <tr>\n",
       "      <th>3</th>\n",
       "      <td>Andreea</td>\n",
       "      <td>2023-06-04 11:28:28+00:00</td>\n",
       "      <td>0 days 00:09:33</td>\n",
       "      <td>NaN</td>\n",
       "      <td>Manifest: Season 4: Furball (Episode 16)</td>\n",
       "      <td>NaN</td>\n",
       "      <td>iPhone 12 Pro Max</td>\n",
       "      <td>00:17:36</td>\n",
       "      <td>Not latest view</td>\n",
       "      <td>RO (Romania)</td>\n",
       "    </tr>\n",
       "    <tr>\n",
       "      <th>2</th>\n",
       "      <td>Andreea</td>\n",
       "      <td>2023-06-04 12:54:09+00:00</td>\n",
       "      <td>0 days 00:26:24</td>\n",
       "      <td>NaN</td>\n",
       "      <td>Manifest: Season 4: Furball (Episode 16)</td>\n",
       "      <td>NaN</td>\n",
       "      <td>iPhone 12 Pro Max</td>\n",
       "      <td>00:45:20</td>\n",
       "      <td>00:45:20</td>\n",
       "      <td>RO (Romania)</td>\n",
       "    </tr>\n",
       "    <tr>\n",
       "      <th>1</th>\n",
       "      <td>Andreea</td>\n",
       "      <td>2023-06-04 13:21:59+00:00</td>\n",
       "      <td>0 days 00:08:46</td>\n",
       "      <td>NaN</td>\n",
       "      <td>Manifest: Season 4: Threshold (Episode 17)</td>\n",
       "      <td>NaN</td>\n",
       "      <td>iPhone 12 Pro Max</td>\n",
       "      <td>00:08:46</td>\n",
       "      <td>Not latest view</td>\n",
       "      <td>RO (Romania)</td>\n",
       "    </tr>\n",
       "    <tr>\n",
       "      <th>0</th>\n",
       "      <td>Andreea</td>\n",
       "      <td>2023-06-04 13:31:02+00:00</td>\n",
       "      <td>0 days 00:19:55</td>\n",
       "      <td>NaN</td>\n",
       "      <td>Manifest: Season 4: Threshold (Episode 17)</td>\n",
       "      <td>NaN</td>\n",
       "      <td>iPhone 12 Pro Max</td>\n",
       "      <td>00:28:41</td>\n",
       "      <td>00:28:41</td>\n",
       "      <td>RO (Romania)</td>\n",
       "    </tr>\n",
       "  </tbody>\n",
       "</table>\n",
       "<p>6869 rows × 10 columns</p>\n",
       "</div>"
      ],
      "text/plain": [
       "     Profile Name                Start Time        Duration  \\\n",
       "6868         Paul 2020-01-16 17:27:05+00:00 0 days 00:47:24   \n",
       "6867         Paul 2020-01-16 18:14:34+00:00 0 days 00:48:21   \n",
       "6866         Paul 2020-01-16 19:11:34+00:00 0 days 00:44:05   \n",
       "6865         Paul 2020-01-16 19:58:29+00:00 0 days 00:03:47   \n",
       "6864         Paul 2020-01-16 21:05:44+00:00 0 days 00:44:43   \n",
       "...           ...                       ...             ...   \n",
       "4         Andreea 2023-06-04 10:47:14+00:00 0 days 00:14:40   \n",
       "3         Andreea 2023-06-04 11:28:28+00:00 0 days 00:09:33   \n",
       "2         Andreea 2023-06-04 12:54:09+00:00 0 days 00:26:24   \n",
       "1         Andreea 2023-06-04 13:21:59+00:00 0 days 00:08:46   \n",
       "0         Andreea 2023-06-04 13:31:02+00:00 0 days 00:19:55   \n",
       "\n",
       "                           Attributes  \\\n",
       "6868                              NaN   \n",
       "6867  Autoplayed: user action: None;    \n",
       "6866  Autoplayed: user action: None;    \n",
       "6865  Autoplayed: user action: None;    \n",
       "6864                              NaN   \n",
       "...                               ...   \n",
       "4                                 NaN   \n",
       "3                                 NaN   \n",
       "2                                 NaN   \n",
       "1                                 NaN   \n",
       "0                                 NaN   \n",
       "\n",
       "                                                  Title  \\\n",
       "6868  You: Season 2: The Good, the Bad, & the Hendy ...   \n",
       "6867  You: Season 2: Have a Good Wellkend, Joe! (Epi...   \n",
       "6866      You: Season 2: Farewell, My Bunny (Episode 6)   \n",
       "6865     You: Season 2: Ex-istential Crisis (Episode 7)   \n",
       "6864     You: Season 2: Ex-istential Crisis (Episode 7)   \n",
       "...                                                 ...   \n",
       "4             Manifest: Season 4: Throttle (Episode 15)   \n",
       "3              Manifest: Season 4: Furball (Episode 16)   \n",
       "2              Manifest: Season 4: Furball (Episode 16)   \n",
       "1            Manifest: Season 4: Threshold (Episode 17)   \n",
       "0            Manifest: Season 4: Threshold (Episode 17)   \n",
       "\n",
       "     Supplemental Video Type          Device Type  Bookmark  Latest Bookmark  \\\n",
       "6868                     NaN  Chrome PC (Cadmium)  00:47:54         00:47:54   \n",
       "6867                     NaN  Chrome PC (Cadmium)  00:48:38         00:48:38   \n",
       "6866                     NaN  Chrome PC (Cadmium)  00:44:22         00:44:22   \n",
       "6865                     NaN  Chrome PC (Cadmium)  00:04:04  Not latest view   \n",
       "6864                     NaN  Chrome PC (Cadmium)  00:49:27         00:49:27   \n",
       "...                      ...                  ...       ...              ...   \n",
       "4                        NaN    iPhone 12 Pro Max  00:42:16         00:42:16   \n",
       "3                        NaN    iPhone 12 Pro Max  00:17:36  Not latest view   \n",
       "2                        NaN    iPhone 12 Pro Max  00:45:20         00:45:20   \n",
       "1                        NaN    iPhone 12 Pro Max  00:08:46  Not latest view   \n",
       "0                        NaN    iPhone 12 Pro Max  00:28:41         00:28:41   \n",
       "\n",
       "           Country  \n",
       "6868  RO (Romania)  \n",
       "6867  RO (Romania)  \n",
       "6866  RO (Romania)  \n",
       "6865  RO (Romania)  \n",
       "6864  RO (Romania)  \n",
       "...            ...  \n",
       "4     RO (Romania)  \n",
       "3     RO (Romania)  \n",
       "2     RO (Romania)  \n",
       "1     RO (Romania)  \n",
       "0     RO (Romania)  \n",
       "\n",
       "[6869 rows x 10 columns]"
      ]
     },
     "execution_count": 491,
     "metadata": {},
     "output_type": "execute_result"
    }
   ],
   "source": [
    "df.sort_values('Start Time')"
   ]
  },
  {
   "attachments": {},
   "cell_type": "markdown",
   "metadata": {},
   "source": [
    "Now will easily summarize the viewwing duration for each profile."
   ]
  },
  {
   "cell_type": "code",
   "execution_count": 492,
   "metadata": {},
   "outputs": [
    {
     "data": {
      "text/plain": [
       "Timedelta('29 days 22:54:37')"
      ]
     },
     "execution_count": 492,
     "metadata": {},
     "output_type": "execute_result"
    }
   ],
   "source": [
    "df.loc[df['Profile Name']=='Paul','Duration'].sum()"
   ]
  },
  {
   "cell_type": "code",
   "execution_count": 493,
   "metadata": {},
   "outputs": [
    {
     "data": {
      "text/plain": [
       "Timedelta('44 days 16:14:52')"
      ]
     },
     "execution_count": 493,
     "metadata": {},
     "output_type": "execute_result"
    }
   ],
   "source": [
    "df.loc[df['Profile Name']=='Andreea','Duration'].sum()"
   ]
  },
  {
   "cell_type": "code",
   "execution_count": 494,
   "metadata": {},
   "outputs": [
    {
     "data": {
      "text/plain": [
       "Timedelta('7 days 09:14:20')"
      ]
     },
     "execution_count": 494,
     "metadata": {},
     "output_type": "execute_result"
    }
   ],
   "source": [
    "df.loc[df['Profile Name']=='Mla','Duration'].sum()"
   ]
  },
  {
   "cell_type": "code",
   "execution_count": 495,
   "metadata": {},
   "outputs": [
    {
     "data": {
      "text/plain": [
       "Timedelta('0 days 00:11:34')"
      ]
     },
     "execution_count": 495,
     "metadata": {},
     "output_type": "execute_result"
    }
   ],
   "source": [
    "df.loc[df['Profile Name']=='Mia','Duration'].sum()"
   ]
  },
  {
   "cell_type": "code",
   "execution_count": 496,
   "metadata": {},
   "outputs": [
    {
     "data": {
      "text/plain": [
       "Timedelta('5 days 17:09:10')"
      ]
     },
     "execution_count": 496,
     "metadata": {},
     "output_type": "execute_result"
    }
   ],
   "source": [
    "df.loc[df['Profile Name']=='Mama','Duration'].sum()"
   ]
  },
  {
   "attachments": {},
   "cell_type": "markdown",
   "metadata": {},
   "source": [
    "Will have to transform the Timedelta"
   ]
  },
  {
   "cell_type": "code",
   "execution_count": 497,
   "metadata": {},
   "outputs": [
    {
     "data": {
      "text/plain": [
       "Timedelta('29 days 22:54:37')"
      ]
     },
     "execution_count": 497,
     "metadata": {},
     "output_type": "execute_result"
    }
   ],
   "source": [
    "df.loc[df['Profile Name']=='Paul','Duration'].astype('timedelta64[s]').sum()\n"
   ]
  },
  {
   "attachments": {},
   "cell_type": "markdown",
   "metadata": {},
   "source": [
    "Will create a helper dictionary, viewTime, to store the overall view timer per Profile in seconds as format."
   ]
  },
  {
   "cell_type": "code",
   "execution_count": 498,
   "metadata": {},
   "outputs": [
    {
     "data": {
      "text/plain": [
       "{'Paul': Timedelta('29 days 22:54:37'),\n",
       " 'Andreea': Timedelta('44 days 16:14:52'),\n",
       " 'Mla': Timedelta('7 days 09:14:20'),\n",
       " 'Mama': Timedelta('5 days 17:09:10'),\n",
       " 'Mia': Timedelta('0 days 00:11:34')}"
      ]
     },
     "execution_count": 498,
     "metadata": {},
     "output_type": "execute_result"
    }
   ],
   "source": [
    "viewTime={}\n",
    "viewTime.update({\"Paul\": df.loc[df['Profile Name']=='Paul','Duration'].astype('timedelta64[s]').sum()})\n",
    "viewTime.update({\"Andreea\": df.loc[df['Profile Name']=='Andreea','Duration'].astype('timedelta64[s]').sum()})\n",
    "viewTime.update({\"Mla\": df.loc[df['Profile Name']=='Mla','Duration'].astype('timedelta64[s]').sum()})\n",
    "viewTime.update({\"Mama\": df.loc[df['Profile Name']=='Mama','Duration'].astype('timedelta64[s]').sum()})\n",
    "viewTime.update({\"Mia\": df.loc[df['Profile Name']=='Mia','Duration'].astype('timedelta64[s]').sum()})\n",
    "viewTime"
   ]
  },
  {
   "attachments": {},
   "cell_type": "markdown",
   "metadata": {},
   "source": [
    "Now we can plot it to a chart format."
   ]
  },
  {
   "cell_type": "code",
   "execution_count": 499,
   "metadata": {},
   "outputs": [
    {
     "data": {
      "image/png": "[encoded data removed]",
      "text/plain": [
       "<Figure size 640x480 with 1 Axes>"
      ]
     },
     "metadata": {},
     "output_type": "display_data"
    }
   ],
   "source": [
    "%matplotlib inline\n",
    "import matplotlib\n",
    "import matplotlib.pyplot as plt\n",
    "viewTime_seconds = {key: value.total_seconds() for key, value in viewTime.items()}\n",
    "\n",
    "# Create the bar chart\n",
    "plt.bar(*zip(*viewTime_seconds.items()))\n",
    "plt.show()"
   ]
  },
  {
   "attachments": {},
   "cell_type": "markdown",
   "metadata": {},
   "source": [
    "Now will see the average watching time per profile."
   ]
  },
  {
   "cell_type": "code",
   "execution_count": 500,
   "metadata": {},
   "outputs": [
    {
     "data": {
      "text/plain": [
       "Profile Name\n",
       "Andreea    3062\n",
       "Paul       2418\n",
       "Mla         837\n",
       "Mama        546\n",
       "Mia           6\n",
       "Name: count, dtype: int64"
      ]
     },
     "execution_count": 500,
     "metadata": {},
     "output_type": "execute_result"
    }
   ],
   "source": [
    "df['Profile Name'].value_counts()"
   ]
  },
  {
   "attachments": {},
   "cell_type": "markdown",
   "metadata": {},
   "source": [
    "We can devide the overall watching duration per Profile by these values."
   ]
  },
  {
   "cell_type": "code",
   "execution_count": 501,
   "metadata": {},
   "outputs": [
    {
     "data": {
      "text/plain": [
       "Timedelta('0 days 00:17:50.337882547')"
      ]
     },
     "execution_count": 501,
     "metadata": {},
     "output_type": "execute_result"
    }
   ],
   "source": [
    "df.loc[df['Profile Name']=='Paul','Duration'].sum()/2418"
   ]
  },
  {
   "cell_type": "code",
   "execution_count": 502,
   "metadata": {},
   "outputs": [
    {
     "data": {
      "text/plain": [
       "Timedelta('0 days 00:21:00.644023514')"
      ]
     },
     "execution_count": 502,
     "metadata": {},
     "output_type": "execute_result"
    }
   ],
   "source": [
    "df.loc[df['Profile Name']=='Andreea','Duration'].sum()/3062"
   ]
  },
  {
   "cell_type": "code",
   "execution_count": 503,
   "metadata": {},
   "outputs": [
    {
     "data": {
      "text/plain": [
       "Timedelta('0 days 00:12:42.317801672')"
      ]
     },
     "execution_count": 503,
     "metadata": {},
     "output_type": "execute_result"
    }
   ],
   "source": [
    "df.loc[df['Profile Name']=='Mla','Duration'].sum()/837"
   ]
  },
  {
   "cell_type": "code",
   "execution_count": 504,
   "metadata": {},
   "outputs": [
    {
     "data": {
      "text/plain": [
       "Timedelta('0 days 00:15:04.304029304')"
      ]
     },
     "execution_count": 504,
     "metadata": {},
     "output_type": "execute_result"
    }
   ],
   "source": [
    "df.loc[df['Profile Name']=='Mama','Duration'].sum()/546"
   ]
  },
  {
   "cell_type": "code",
   "execution_count": 505,
   "metadata": {},
   "outputs": [
    {
     "data": {
      "text/plain": [
       "Timedelta('0 days 00:01:55.666666666')"
      ]
     },
     "execution_count": 505,
     "metadata": {},
     "output_type": "execute_result"
    }
   ],
   "source": [
    "df.loc[df['Profile Name']=='Mia','Duration'].sum()/6"
   ]
  },
  {
   "attachments": {},
   "cell_type": "markdown",
   "metadata": {},
   "source": [
    "Let's see the values of column 'Supplemental Video Type'"
   ]
  },
  {
   "cell_type": "code",
   "execution_count": 506,
   "metadata": {},
   "outputs": [
    {
     "data": {
      "text/plain": [
       "Supplemental Video Type\n",
       "HOOK              611\n",
       "TRAILER           376\n",
       "TEASER_TRAILER     63\n",
       "RECAP              17\n",
       "PREVIEW             6\n",
       "PROMOTIONAL         4\n",
       "CINEMAGRAPH         1\n",
       "Name: count, dtype: int64"
      ]
     },
     "execution_count": 506,
     "metadata": {},
     "output_type": "execute_result"
    }
   ],
   "source": [
    "df['Supplemental Video Type'].value_counts()"
   ]
  },
  {
   "attachments": {},
   "cell_type": "markdown",
   "metadata": {},
   "source": [
    "How about information with NaN in Supplement Video Type?"
   ]
  },
  {
   "cell_type": "code",
   "execution_count": 507,
   "metadata": {},
   "outputs": [
    {
     "data": {
      "text/html": [
       "<div>\n",
       "<style scoped>\n",
       "    .dataframe tbody tr th:only-of-type {\n",
       "        vertical-align: middle;\n",
       "    }\n",
       "\n",
       "    .dataframe tbody tr th {\n",
       "        vertical-align: top;\n",
       "    }\n",
       "\n",
       "    .dataframe thead th {\n",
       "        text-align: right;\n",
       "    }\n",
       "</style>\n",
       "<table border=\"1\" class=\"dataframe\">\n",
       "  <thead>\n",
       "    <tr style=\"text-align: right;\">\n",
       "      <th></th>\n",
       "      <th>Profile Name</th>\n",
       "      <th>Start Time</th>\n",
       "      <th>Duration</th>\n",
       "      <th>Attributes</th>\n",
       "      <th>Title</th>\n",
       "      <th>Supplemental Video Type</th>\n",
       "      <th>Device Type</th>\n",
       "      <th>Bookmark</th>\n",
       "      <th>Latest Bookmark</th>\n",
       "      <th>Country</th>\n",
       "    </tr>\n",
       "  </thead>\n",
       "  <tbody>\n",
       "    <tr>\n",
       "      <th>0</th>\n",
       "      <td>Andreea</td>\n",
       "      <td>2023-06-04 13:31:02+00:00</td>\n",
       "      <td>0 days 00:19:55</td>\n",
       "      <td>NaN</td>\n",
       "      <td>Manifest: Season 4: Threshold (Episode 17)</td>\n",
       "      <td>NaN</td>\n",
       "      <td>iPhone 12 Pro Max</td>\n",
       "      <td>00:28:41</td>\n",
       "      <td>00:28:41</td>\n",
       "      <td>RO (Romania)</td>\n",
       "    </tr>\n",
       "    <tr>\n",
       "      <th>1</th>\n",
       "      <td>Andreea</td>\n",
       "      <td>2023-06-04 13:21:59+00:00</td>\n",
       "      <td>0 days 00:08:46</td>\n",
       "      <td>NaN</td>\n",
       "      <td>Manifest: Season 4: Threshold (Episode 17)</td>\n",
       "      <td>NaN</td>\n",
       "      <td>iPhone 12 Pro Max</td>\n",
       "      <td>00:08:46</td>\n",
       "      <td>Not latest view</td>\n",
       "      <td>RO (Romania)</td>\n",
       "    </tr>\n",
       "    <tr>\n",
       "      <th>2</th>\n",
       "      <td>Andreea</td>\n",
       "      <td>2023-06-04 12:54:09+00:00</td>\n",
       "      <td>0 days 00:26:24</td>\n",
       "      <td>NaN</td>\n",
       "      <td>Manifest: Season 4: Furball (Episode 16)</td>\n",
       "      <td>NaN</td>\n",
       "      <td>iPhone 12 Pro Max</td>\n",
       "      <td>00:45:20</td>\n",
       "      <td>00:45:20</td>\n",
       "      <td>RO (Romania)</td>\n",
       "    </tr>\n",
       "    <tr>\n",
       "      <th>3</th>\n",
       "      <td>Andreea</td>\n",
       "      <td>2023-06-04 11:28:28+00:00</td>\n",
       "      <td>0 days 00:09:33</td>\n",
       "      <td>NaN</td>\n",
       "      <td>Manifest: Season 4: Furball (Episode 16)</td>\n",
       "      <td>NaN</td>\n",
       "      <td>iPhone 12 Pro Max</td>\n",
       "      <td>00:17:36</td>\n",
       "      <td>Not latest view</td>\n",
       "      <td>RO (Romania)</td>\n",
       "    </tr>\n",
       "    <tr>\n",
       "      <th>4</th>\n",
       "      <td>Andreea</td>\n",
       "      <td>2023-06-04 10:47:14+00:00</td>\n",
       "      <td>0 days 00:14:40</td>\n",
       "      <td>NaN</td>\n",
       "      <td>Manifest: Season 4: Throttle (Episode 15)</td>\n",
       "      <td>NaN</td>\n",
       "      <td>iPhone 12 Pro Max</td>\n",
       "      <td>00:42:16</td>\n",
       "      <td>00:42:16</td>\n",
       "      <td>RO (Romania)</td>\n",
       "    </tr>\n",
       "    <tr>\n",
       "      <th>...</th>\n",
       "      <td>...</td>\n",
       "      <td>...</td>\n",
       "      <td>...</td>\n",
       "      <td>...</td>\n",
       "      <td>...</td>\n",
       "      <td>...</td>\n",
       "      <td>...</td>\n",
       "      <td>...</td>\n",
       "      <td>...</td>\n",
       "      <td>...</td>\n",
       "    </tr>\n",
       "    <tr>\n",
       "      <th>6864</th>\n",
       "      <td>Paul</td>\n",
       "      <td>2020-01-16 21:05:44+00:00</td>\n",
       "      <td>0 days 00:44:43</td>\n",
       "      <td>NaN</td>\n",
       "      <td>You: Season 2: Ex-istential Crisis (Episode 7)</td>\n",
       "      <td>NaN</td>\n",
       "      <td>Chrome PC (Cadmium)</td>\n",
       "      <td>00:49:27</td>\n",
       "      <td>00:49:27</td>\n",
       "      <td>RO (Romania)</td>\n",
       "    </tr>\n",
       "    <tr>\n",
       "      <th>6865</th>\n",
       "      <td>Paul</td>\n",
       "      <td>2020-01-16 19:58:29+00:00</td>\n",
       "      <td>0 days 00:03:47</td>\n",
       "      <td>Autoplayed: user action: None;</td>\n",
       "      <td>You: Season 2: Ex-istential Crisis (Episode 7)</td>\n",
       "      <td>NaN</td>\n",
       "      <td>Chrome PC (Cadmium)</td>\n",
       "      <td>00:04:04</td>\n",
       "      <td>Not latest view</td>\n",
       "      <td>RO (Romania)</td>\n",
       "    </tr>\n",
       "    <tr>\n",
       "      <th>6866</th>\n",
       "      <td>Paul</td>\n",
       "      <td>2020-01-16 19:11:34+00:00</td>\n",
       "      <td>0 days 00:44:05</td>\n",
       "      <td>Autoplayed: user action: None;</td>\n",
       "      <td>You: Season 2: Farewell, My Bunny (Episode 6)</td>\n",
       "      <td>NaN</td>\n",
       "      <td>Chrome PC (Cadmium)</td>\n",
       "      <td>00:44:22</td>\n",
       "      <td>00:44:22</td>\n",
       "      <td>RO (Romania)</td>\n",
       "    </tr>\n",
       "    <tr>\n",
       "      <th>6867</th>\n",
       "      <td>Paul</td>\n",
       "      <td>2020-01-16 18:14:34+00:00</td>\n",
       "      <td>0 days 00:48:21</td>\n",
       "      <td>Autoplayed: user action: None;</td>\n",
       "      <td>You: Season 2: Have a Good Wellkend, Joe! (Epi...</td>\n",
       "      <td>NaN</td>\n",
       "      <td>Chrome PC (Cadmium)</td>\n",
       "      <td>00:48:38</td>\n",
       "      <td>00:48:38</td>\n",
       "      <td>RO (Romania)</td>\n",
       "    </tr>\n",
       "    <tr>\n",
       "      <th>6868</th>\n",
       "      <td>Paul</td>\n",
       "      <td>2020-01-16 17:27:05+00:00</td>\n",
       "      <td>0 days 00:47:24</td>\n",
       "      <td>NaN</td>\n",
       "      <td>You: Season 2: The Good, the Bad, &amp; the Hendy ...</td>\n",
       "      <td>NaN</td>\n",
       "      <td>Chrome PC (Cadmium)</td>\n",
       "      <td>00:47:54</td>\n",
       "      <td>00:47:54</td>\n",
       "      <td>RO (Romania)</td>\n",
       "    </tr>\n",
       "  </tbody>\n",
       "</table>\n",
       "<p>5791 rows × 10 columns</p>\n",
       "</div>"
      ],
      "text/plain": [
       "     Profile Name                Start Time        Duration  \\\n",
       "0         Andreea 2023-06-04 13:31:02+00:00 0 days 00:19:55   \n",
       "1         Andreea 2023-06-04 13:21:59+00:00 0 days 00:08:46   \n",
       "2         Andreea 2023-06-04 12:54:09+00:00 0 days 00:26:24   \n",
       "3         Andreea 2023-06-04 11:28:28+00:00 0 days 00:09:33   \n",
       "4         Andreea 2023-06-04 10:47:14+00:00 0 days 00:14:40   \n",
       "...           ...                       ...             ...   \n",
       "6864         Paul 2020-01-16 21:05:44+00:00 0 days 00:44:43   \n",
       "6865         Paul 2020-01-16 19:58:29+00:00 0 days 00:03:47   \n",
       "6866         Paul 2020-01-16 19:11:34+00:00 0 days 00:44:05   \n",
       "6867         Paul 2020-01-16 18:14:34+00:00 0 days 00:48:21   \n",
       "6868         Paul 2020-01-16 17:27:05+00:00 0 days 00:47:24   \n",
       "\n",
       "                           Attributes  \\\n",
       "0                                 NaN   \n",
       "1                                 NaN   \n",
       "2                                 NaN   \n",
       "3                                 NaN   \n",
       "4                                 NaN   \n",
       "...                               ...   \n",
       "6864                              NaN   \n",
       "6865  Autoplayed: user action: None;    \n",
       "6866  Autoplayed: user action: None;    \n",
       "6867  Autoplayed: user action: None;    \n",
       "6868                              NaN   \n",
       "\n",
       "                                                  Title  \\\n",
       "0            Manifest: Season 4: Threshold (Episode 17)   \n",
       "1            Manifest: Season 4: Threshold (Episode 17)   \n",
       "2              Manifest: Season 4: Furball (Episode 16)   \n",
       "3              Manifest: Season 4: Furball (Episode 16)   \n",
       "4             Manifest: Season 4: Throttle (Episode 15)   \n",
       "...                                                 ...   \n",
       "6864     You: Season 2: Ex-istential Crisis (Episode 7)   \n",
       "6865     You: Season 2: Ex-istential Crisis (Episode 7)   \n",
       "6866      You: Season 2: Farewell, My Bunny (Episode 6)   \n",
       "6867  You: Season 2: Have a Good Wellkend, Joe! (Epi...   \n",
       "6868  You: Season 2: The Good, the Bad, & the Hendy ...   \n",
       "\n",
       "     Supplemental Video Type          Device Type  Bookmark  Latest Bookmark  \\\n",
       "0                        NaN    iPhone 12 Pro Max  00:28:41         00:28:41   \n",
       "1                        NaN    iPhone 12 Pro Max  00:08:46  Not latest view   \n",
       "2                        NaN    iPhone 12 Pro Max  00:45:20         00:45:20   \n",
       "3                        NaN    iPhone 12 Pro Max  00:17:36  Not latest view   \n",
       "4                        NaN    iPhone 12 Pro Max  00:42:16         00:42:16   \n",
       "...                      ...                  ...       ...              ...   \n",
       "6864                     NaN  Chrome PC (Cadmium)  00:49:27         00:49:27   \n",
       "6865                     NaN  Chrome PC (Cadmium)  00:04:04  Not latest view   \n",
       "6866                     NaN  Chrome PC (Cadmium)  00:44:22         00:44:22   \n",
       "6867                     NaN  Chrome PC (Cadmium)  00:48:38         00:48:38   \n",
       "6868                     NaN  Chrome PC (Cadmium)  00:47:54         00:47:54   \n",
       "\n",
       "           Country  \n",
       "0     RO (Romania)  \n",
       "1     RO (Romania)  \n",
       "2     RO (Romania)  \n",
       "3     RO (Romania)  \n",
       "4     RO (Romania)  \n",
       "...            ...  \n",
       "6864  RO (Romania)  \n",
       "6865  RO (Romania)  \n",
       "6866  RO (Romania)  \n",
       "6867  RO (Romania)  \n",
       "6868  RO (Romania)  \n",
       "\n",
       "[5791 rows x 10 columns]"
      ]
     },
     "execution_count": 507,
     "metadata": {},
     "output_type": "execute_result"
    }
   ],
   "source": [
    "df.loc[df['Supplemental Video Type'].isnull()]"
   ]
  },
  {
   "attachments": {},
   "cell_type": "markdown",
   "metadata": {},
   "source": [
    "Will check the number again."
   ]
  },
  {
   "cell_type": "code",
   "execution_count": 508,
   "metadata": {},
   "outputs": [
    {
     "data": {
      "text/plain": [
       "Profile Name\n",
       "Andreea    3062\n",
       "Paul       2418\n",
       "Mla         837\n",
       "Mama        546\n",
       "Mia           6\n",
       "Name: count, dtype: int64"
      ]
     },
     "execution_count": 508,
     "metadata": {},
     "output_type": "execute_result"
    }
   ],
   "source": [
    "df['Profile Name'].value_counts()"
   ]
  },
  {
   "attachments": {},
   "cell_type": "markdown",
   "metadata": {},
   "source": [
    "After checking the information, is seems that in the dataset they are not any type of NaN data."
   ]
  },
  {
   "attachments": {},
   "cell_type": "markdown",
   "metadata": {},
   "source": [
    "Will take a look at the devices and also the profile associated with it."
   ]
  },
  {
   "cell_type": "code",
   "execution_count": 509,
   "metadata": {},
   "outputs": [
    {
     "data": {
      "text/plain": [
       "Device Type\n",
       "iPhone 12 Pro Max                               1599\n",
       "Samsung CE 2020 Kant-S2 DTV Smart TV            1126\n",
       "Chrome PC (Cadmium)                             1100\n",
       "Sony Sony CE SONY SimpleTV 2015 Sal Smart TV     721\n",
       "iPad mini 3G CDMA                                688\n",
       "FireTV 4K Stick 2018                             396\n",
       "Apple iPhone 7 Plus (GSM)                        301\n",
       "Vestel ODM 4.3 Nova 2K TV Smart TV               234\n",
       "Apple iPhone 7 (GSM)                             232\n",
       "Samsung 2015 Hawk-M Smart TV                     202\n",
       "Apple iPhone X (GSM)                             113\n",
       "Android DefaultWidevineL3Phone Android Phone     104\n",
       "Apple iPhone 8 Plus (GSM)                         38\n",
       "Samsung CE 2020 Kant-S2 UHD TV Smart TV            8\n",
       "Apple iPhone 6 Plus                                7\n",
       "Name: count, dtype: int64"
      ]
     },
     "execution_count": 509,
     "metadata": {},
     "output_type": "execute_result"
    }
   ],
   "source": [
    "df['Device Type'].value_counts()"
   ]
  },
  {
   "attachments": {},
   "cell_type": "markdown",
   "metadata": {},
   "source": [
    "Will plot this informatio."
   ]
  },
  {
   "cell_type": "code",
   "execution_count": 510,
   "metadata": {},
   "outputs": [
    {
     "data": {
      "image/png": "[encoded data removed]",
      "text/plain": [
       "<Figure size 640x480 with 1 Axes>"
      ]
     },
     "metadata": {},
     "output_type": "display_data"
    }
   ],
   "source": [
    "df['Device Type'].value_counts().plot(kind='bar')\n",
    "plt.show()"
   ]
  },
  {
   "attachments": {},
   "cell_type": "markdown",
   "metadata": {},
   "source": [
    "I want too know more about my own device and also for my sister."
   ]
  },
  {
   "cell_type": "code",
   "execution_count": 511,
   "metadata": {},
   "outputs": [
    {
     "data": {
      "image/png": "[encoded data removed]",
      "text/plain": [
       "<Figure size 640x480 with 1 Axes>"
      ]
     },
     "metadata": {},
     "output_type": "display_data"
    }
   ],
   "source": [
    "df=df.loc[df['Profile Name']=='Paul']\n",
    "\n",
    "df['Device Type'].value_counts().plot(kind='bar')\n",
    "plt.show()"
   ]
  },
  {
   "attachments": {},
   "cell_type": "markdown",
   "metadata": {},
   "source": [
    "Will try too see most watched TV Serioes/Movies"
   ]
  },
  {
   "cell_type": "code",
   "execution_count": 512,
   "metadata": {},
   "outputs": [
    {
     "name": "stdout",
     "output_type": "stream",
     "text": [
      "Top 10 Watched Titles:\n",
      "- Money Heist: Part 1: Episode 1\n",
      "- Trailer: Roald Dahl's Matilda The Musical\n",
      "- Money Heist: Part 1: Episode 2\n",
      "- Roald Dahl's Matilda The Musical\n",
      "- Set It Up\n",
      "- Firefly Lane: Season 1: Mawaige (Episode 8)\n",
      "- Gabby's Dollhouse: Season 1: Hamster Kitties (Episode 3)\n",
      "- Community: Season 6: Grifting 101 (Episode 9)\n",
      "- Community: Season 6: Ladders (Episode 1)\n",
      "- Community: Season 6: Intro To Recycled Cinema (Episode 8)\n"
     ]
    }
   ],
   "source": [
    "# Group the DataFrame by title and count the number of occurrences\n",
    "\n",
    "df = pd.read_csv('ViewingActivity.csv')\n",
    "\n",
    "\n",
    "# Group the DataFrame by title and count the number of occurrences\n",
    "title_counts = df['Title'].value_counts()\n",
    "\n",
    "# Get the top 10 watched titles\n",
    "top_10_watched_titles = title_counts.index[:10]\n",
    "\n",
    "# Print the top 10 watched titles\n",
    "print(\"Top 10 Watched Titles:\")\n",
    "for title in top_10_watched_titles:\n",
    "    print(\"-\", title)"
   ]
  }
 ],
 "metadata": {
  "kernelspec": {
   "display_name": "Python 3",
   "language": "python",
   "name": "python3"
  },
  "language_info": {
   "codemirror_mode": {
    "name": "ipython",
    "version": 3
   },
   "file_extension": ".py",
   "mimetype": "text/x-python",
   "name": "python",
   "nbconvert_exporter": "python",
   "pygments_lexer": "ipython3",
   "version": "3.11.3"
  },
  "orig_nbformat": 4
 },
 "nbformat": 4,
 "nbformat_minor": 2
}
